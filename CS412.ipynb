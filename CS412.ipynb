{
  "nbformat": 4,
  "nbformat_minor": 0,
  "metadata": {
    "colab": {
      "name": "CS412.ipynb",
      "provenance": [],
      "collapsed_sections": [],
      "include_colab_link": true
    },
    "kernelspec": {
      "name": "python3",
      "display_name": "Python 3"
    },
    "language_info": {
      "name": "python"
    }
  },
  "cells": [
    {
      "cell_type": "markdown",
      "metadata": {
        "id": "view-in-github",
        "colab_type": "text"
      },
      "source": [
        "<a href=\"https://colab.research.google.com/github/Suryasri-Kalidas/Data-Mining/blob/main/CS412.ipynb\" target=\"_parent\"><img src=\"https://colab.research.google.com/assets/colab-badge.svg\" alt=\"Open In Colab\"/></a>"
      ]
    },
    {
      "cell_type": "code",
      "metadata": {
        "colab": {
          "base_uri": "https://localhost:8080/"
        },
        "id": "FNBv3b_jgzf2",
        "outputId": "c6e69e56-34f2-480a-bd4e-0a71e0bc2979"
      },
      "source": [
        "from google.colab import drive\n",
        "drive.mount('/content/drive/')\n",
        "import os\n",
        "path=\"/content/drive/MyDrive/CS412_Project\"\n",
        "os.chdir(path)"
      ],
      "execution_count": 2,
      "outputs": [
        {
          "output_type": "stream",
          "text": [
            "Drive already mounted at /content/drive/; to attempt to forcibly remount, call drive.mount(\"/content/drive/\", force_remount=True).\n"
          ],
          "name": "stdout"
        }
      ]
    },
    {
      "cell_type": "code",
      "metadata": {
        "id": "UIFr3IA6jtOP"
      },
      "source": [
        "import shutil\n",
        "#shutil.unpack_archive(\"zillow-prize-1.zip\", \"zillow_data\")"
      ],
      "execution_count": 3,
      "outputs": []
    },
    {
      "cell_type": "markdown",
      "metadata": {
        "id": "5MMxXXWyiKsf"
      },
      "source": [
        "# **IMPORT** **MODULES**"
      ]
    },
    {
      "cell_type": "code",
      "metadata": {
        "id": "OGtcgBABkXgS"
      },
      "source": [
        "import pandas as pd\n",
        "import numpy as np\n",
        "import matplotlib.pyplot as plt"
      ],
      "execution_count": 4,
      "outputs": []
    },
    {
      "cell_type": "markdown",
      "metadata": {
        "id": "xkoIpXW9iSTB"
      },
      "source": [
        "# **LOAD DATA**"
      ]
    },
    {
      "cell_type": "code",
      "metadata": {
        "id": "6Qd--_uXiV0E"
      },
      "source": [
        "train_2016 = pd.read_csv(\"zillow_data/train_2016_v2.csv\", header = 0,dtype='unicode') #if dtype is not specified, will get dtype mismatch error\n",
        "train_2017 = pd.read_csv(\"zillow_data/train_2017.csv\", header = 0,dtype='unicode')\n",
        "properties_2016 = pd.read_csv(\"zillow_data/properties_2016.csv\", header = 0,dtype='unicode')\n",
        "properties_2017 = pd.read_csv(\"zillow_data/properties_2017.csv\", header = 0,dtype='unicode')"
      ],
      "execution_count": 5,
      "outputs": []
    },
    {
      "cell_type": "code",
      "metadata": {
        "id": "5gpwq6P4kZ3t"
      },
      "source": [
        "train=pd.concat([train_2016,train_2017])\n",
        "properties=pd.concat([properties_2016,properties_2017])\n"
      ],
      "execution_count": 6,
      "outputs": []
    },
    {
      "cell_type": "code",
      "metadata": {
        "colab": {
          "base_uri": "https://localhost:8080/"
        },
        "id": "ct5MfVZMmSe2",
        "outputId": "8b5b451b-7a00-47dc-c786-6770b16028e0"
      },
      "source": [
        "print(\"train_2016:\",train_2016.shape)\n",
        "print(\"train_2017:\",train_2017.shape)\n",
        "print(\"train_combined:\",train.shape)\n",
        "print(\"properties_2016:\",properties_2016.shape)\n",
        "print(\"properties_2017:\",properties_2017.shape)\n",
        "print(\"properties_combined:\",properties.shape)\n"
      ],
      "execution_count": 7,
      "outputs": [
        {
          "output_type": "stream",
          "text": [
            "train_2016: (90275, 3)\n",
            "train_2017: (77613, 3)\n",
            "train_combined: (167888, 3)\n",
            "properties_2016: (2985217, 58)\n",
            "properties_2017: (2985217, 58)\n",
            "properties_combined: (5970434, 58)\n"
          ],
          "name": "stdout"
        }
      ]
    },
    {
      "cell_type": "markdown",
      "metadata": {
        "id": "OuCGQTTwHhXE"
      },
      "source": [
        "## **Data Cleaning**"
      ]
    },
    {
      "cell_type": "markdown",
      "metadata": {
        "id": "eUbA6Lx6Hodh"
      },
      "source": [
        "**Data Visualization**"
      ]
    },
    {
      "cell_type": "code",
      "metadata": {
        "colab": {
          "base_uri": "https://localhost:8080/",
          "height": 224
        },
        "id": "I2ygFmhsGiO1",
        "outputId": "e2ead088-42ae-4ba1-ff8d-e62a4f502028"
      },
      "source": [
        "properties.head()"
      ],
      "execution_count": 8,
      "outputs": [
        {
          "output_type": "execute_result",
          "data": {
            "text/html": [
              "<div>\n",
              "<style scoped>\n",
              "    .dataframe tbody tr th:only-of-type {\n",
              "        vertical-align: middle;\n",
              "    }\n",
              "\n",
              "    .dataframe tbody tr th {\n",
              "        vertical-align: top;\n",
              "    }\n",
              "\n",
              "    .dataframe thead th {\n",
              "        text-align: right;\n",
              "    }\n",
              "</style>\n",
              "<table border=\"1\" class=\"dataframe\">\n",
              "  <thead>\n",
              "    <tr style=\"text-align: right;\">\n",
              "      <th></th>\n",
              "      <th>parcelid</th>\n",
              "      <th>airconditioningtypeid</th>\n",
              "      <th>architecturalstyletypeid</th>\n",
              "      <th>basementsqft</th>\n",
              "      <th>bathroomcnt</th>\n",
              "      <th>bedroomcnt</th>\n",
              "      <th>buildingclasstypeid</th>\n",
              "      <th>buildingqualitytypeid</th>\n",
              "      <th>calculatedbathnbr</th>\n",
              "      <th>decktypeid</th>\n",
              "      <th>finishedfloor1squarefeet</th>\n",
              "      <th>calculatedfinishedsquarefeet</th>\n",
              "      <th>finishedsquarefeet12</th>\n",
              "      <th>finishedsquarefeet13</th>\n",
              "      <th>finishedsquarefeet15</th>\n",
              "      <th>finishedsquarefeet50</th>\n",
              "      <th>finishedsquarefeet6</th>\n",
              "      <th>fips</th>\n",
              "      <th>fireplacecnt</th>\n",
              "      <th>fullbathcnt</th>\n",
              "      <th>garagecarcnt</th>\n",
              "      <th>garagetotalsqft</th>\n",
              "      <th>hashottuborspa</th>\n",
              "      <th>heatingorsystemtypeid</th>\n",
              "      <th>latitude</th>\n",
              "      <th>longitude</th>\n",
              "      <th>lotsizesquarefeet</th>\n",
              "      <th>poolcnt</th>\n",
              "      <th>poolsizesum</th>\n",
              "      <th>pooltypeid10</th>\n",
              "      <th>pooltypeid2</th>\n",
              "      <th>pooltypeid7</th>\n",
              "      <th>propertycountylandusecode</th>\n",
              "      <th>propertylandusetypeid</th>\n",
              "      <th>propertyzoningdesc</th>\n",
              "      <th>rawcensustractandblock</th>\n",
              "      <th>regionidcity</th>\n",
              "      <th>regionidcounty</th>\n",
              "      <th>regionidneighborhood</th>\n",
              "      <th>regionidzip</th>\n",
              "      <th>roomcnt</th>\n",
              "      <th>storytypeid</th>\n",
              "      <th>threequarterbathnbr</th>\n",
              "      <th>typeconstructiontypeid</th>\n",
              "      <th>unitcnt</th>\n",
              "      <th>yardbuildingsqft17</th>\n",
              "      <th>yardbuildingsqft26</th>\n",
              "      <th>yearbuilt</th>\n",
              "      <th>numberofstories</th>\n",
              "      <th>fireplaceflag</th>\n",
              "      <th>structuretaxvaluedollarcnt</th>\n",
              "      <th>taxvaluedollarcnt</th>\n",
              "      <th>assessmentyear</th>\n",
              "      <th>landtaxvaluedollarcnt</th>\n",
              "      <th>taxamount</th>\n",
              "      <th>taxdelinquencyflag</th>\n",
              "      <th>taxdelinquencyyear</th>\n",
              "      <th>censustractandblock</th>\n",
              "    </tr>\n",
              "  </thead>\n",
              "  <tbody>\n",
              "    <tr>\n",
              "      <th>0</th>\n",
              "      <td>10754147</td>\n",
              "      <td>NaN</td>\n",
              "      <td>NaN</td>\n",
              "      <td>NaN</td>\n",
              "      <td>0.0</td>\n",
              "      <td>0.0</td>\n",
              "      <td>NaN</td>\n",
              "      <td>NaN</td>\n",
              "      <td>NaN</td>\n",
              "      <td>NaN</td>\n",
              "      <td>NaN</td>\n",
              "      <td>NaN</td>\n",
              "      <td>NaN</td>\n",
              "      <td>NaN</td>\n",
              "      <td>NaN</td>\n",
              "      <td>NaN</td>\n",
              "      <td>NaN</td>\n",
              "      <td>06037</td>\n",
              "      <td>NaN</td>\n",
              "      <td>NaN</td>\n",
              "      <td>NaN</td>\n",
              "      <td>NaN</td>\n",
              "      <td>NaN</td>\n",
              "      <td>NaN</td>\n",
              "      <td>34144442</td>\n",
              "      <td>-118654084</td>\n",
              "      <td>85768.0</td>\n",
              "      <td>NaN</td>\n",
              "      <td>NaN</td>\n",
              "      <td>NaN</td>\n",
              "      <td>NaN</td>\n",
              "      <td>NaN</td>\n",
              "      <td>010D</td>\n",
              "      <td>269</td>\n",
              "      <td>NaN</td>\n",
              "      <td>060378002.0410</td>\n",
              "      <td>37688</td>\n",
              "      <td>3101</td>\n",
              "      <td>NaN</td>\n",
              "      <td>96337</td>\n",
              "      <td>0.0</td>\n",
              "      <td>NaN</td>\n",
              "      <td>NaN</td>\n",
              "      <td>NaN</td>\n",
              "      <td>NaN</td>\n",
              "      <td>NaN</td>\n",
              "      <td>NaN</td>\n",
              "      <td>NaN</td>\n",
              "      <td>NaN</td>\n",
              "      <td>NaN</td>\n",
              "      <td>NaN</td>\n",
              "      <td>9.0</td>\n",
              "      <td>2015</td>\n",
              "      <td>9.0</td>\n",
              "      <td>NaN</td>\n",
              "      <td>NaN</td>\n",
              "      <td>NaN</td>\n",
              "      <td>NaN</td>\n",
              "    </tr>\n",
              "    <tr>\n",
              "      <th>1</th>\n",
              "      <td>10759547</td>\n",
              "      <td>NaN</td>\n",
              "      <td>NaN</td>\n",
              "      <td>NaN</td>\n",
              "      <td>0.0</td>\n",
              "      <td>0.0</td>\n",
              "      <td>NaN</td>\n",
              "      <td>NaN</td>\n",
              "      <td>NaN</td>\n",
              "      <td>NaN</td>\n",
              "      <td>NaN</td>\n",
              "      <td>NaN</td>\n",
              "      <td>NaN</td>\n",
              "      <td>NaN</td>\n",
              "      <td>NaN</td>\n",
              "      <td>NaN</td>\n",
              "      <td>NaN</td>\n",
              "      <td>06037</td>\n",
              "      <td>NaN</td>\n",
              "      <td>NaN</td>\n",
              "      <td>NaN</td>\n",
              "      <td>NaN</td>\n",
              "      <td>NaN</td>\n",
              "      <td>NaN</td>\n",
              "      <td>34140430</td>\n",
              "      <td>-118625364</td>\n",
              "      <td>4083.0</td>\n",
              "      <td>NaN</td>\n",
              "      <td>NaN</td>\n",
              "      <td>NaN</td>\n",
              "      <td>NaN</td>\n",
              "      <td>NaN</td>\n",
              "      <td>0109</td>\n",
              "      <td>261</td>\n",
              "      <td>LCA11*</td>\n",
              "      <td>060378001.011002</td>\n",
              "      <td>37688</td>\n",
              "      <td>3101</td>\n",
              "      <td>NaN</td>\n",
              "      <td>96337</td>\n",
              "      <td>0.0</td>\n",
              "      <td>NaN</td>\n",
              "      <td>NaN</td>\n",
              "      <td>NaN</td>\n",
              "      <td>NaN</td>\n",
              "      <td>NaN</td>\n",
              "      <td>NaN</td>\n",
              "      <td>NaN</td>\n",
              "      <td>NaN</td>\n",
              "      <td>NaN</td>\n",
              "      <td>NaN</td>\n",
              "      <td>27516.0</td>\n",
              "      <td>2015</td>\n",
              "      <td>27516.0</td>\n",
              "      <td>NaN</td>\n",
              "      <td>NaN</td>\n",
              "      <td>NaN</td>\n",
              "      <td>NaN</td>\n",
              "    </tr>\n",
              "    <tr>\n",
              "      <th>2</th>\n",
              "      <td>10843547</td>\n",
              "      <td>NaN</td>\n",
              "      <td>NaN</td>\n",
              "      <td>NaN</td>\n",
              "      <td>0.0</td>\n",
              "      <td>0.0</td>\n",
              "      <td>NaN</td>\n",
              "      <td>NaN</td>\n",
              "      <td>NaN</td>\n",
              "      <td>NaN</td>\n",
              "      <td>NaN</td>\n",
              "      <td>73026.0</td>\n",
              "      <td>NaN</td>\n",
              "      <td>NaN</td>\n",
              "      <td>73026</td>\n",
              "      <td>NaN</td>\n",
              "      <td>NaN</td>\n",
              "      <td>06037</td>\n",
              "      <td>NaN</td>\n",
              "      <td>NaN</td>\n",
              "      <td>NaN</td>\n",
              "      <td>NaN</td>\n",
              "      <td>NaN</td>\n",
              "      <td>NaN</td>\n",
              "      <td>33989359</td>\n",
              "      <td>-118394633</td>\n",
              "      <td>63085.0</td>\n",
              "      <td>NaN</td>\n",
              "      <td>NaN</td>\n",
              "      <td>NaN</td>\n",
              "      <td>NaN</td>\n",
              "      <td>NaN</td>\n",
              "      <td>1200</td>\n",
              "      <td>47</td>\n",
              "      <td>LAC2</td>\n",
              "      <td>060377030.012017</td>\n",
              "      <td>51617</td>\n",
              "      <td>3101</td>\n",
              "      <td>NaN</td>\n",
              "      <td>96095</td>\n",
              "      <td>0.0</td>\n",
              "      <td>NaN</td>\n",
              "      <td>NaN</td>\n",
              "      <td>NaN</td>\n",
              "      <td>2</td>\n",
              "      <td>NaN</td>\n",
              "      <td>NaN</td>\n",
              "      <td>NaN</td>\n",
              "      <td>NaN</td>\n",
              "      <td>NaN</td>\n",
              "      <td>650756.0</td>\n",
              "      <td>1413387.0</td>\n",
              "      <td>2015</td>\n",
              "      <td>762631.0</td>\n",
              "      <td>20800.37</td>\n",
              "      <td>NaN</td>\n",
              "      <td>NaN</td>\n",
              "      <td>NaN</td>\n",
              "    </tr>\n",
              "    <tr>\n",
              "      <th>3</th>\n",
              "      <td>10859147</td>\n",
              "      <td>NaN</td>\n",
              "      <td>NaN</td>\n",
              "      <td>NaN</td>\n",
              "      <td>0.0</td>\n",
              "      <td>0.0</td>\n",
              "      <td>3</td>\n",
              "      <td>7</td>\n",
              "      <td>NaN</td>\n",
              "      <td>NaN</td>\n",
              "      <td>NaN</td>\n",
              "      <td>5068.0</td>\n",
              "      <td>NaN</td>\n",
              "      <td>NaN</td>\n",
              "      <td>5068</td>\n",
              "      <td>NaN</td>\n",
              "      <td>NaN</td>\n",
              "      <td>06037</td>\n",
              "      <td>NaN</td>\n",
              "      <td>NaN</td>\n",
              "      <td>NaN</td>\n",
              "      <td>NaN</td>\n",
              "      <td>NaN</td>\n",
              "      <td>NaN</td>\n",
              "      <td>34148863</td>\n",
              "      <td>-118437206</td>\n",
              "      <td>7521.0</td>\n",
              "      <td>NaN</td>\n",
              "      <td>NaN</td>\n",
              "      <td>NaN</td>\n",
              "      <td>NaN</td>\n",
              "      <td>NaN</td>\n",
              "      <td>1200</td>\n",
              "      <td>47</td>\n",
              "      <td>LAC2</td>\n",
              "      <td>060371412.023001</td>\n",
              "      <td>12447</td>\n",
              "      <td>3101</td>\n",
              "      <td>27080</td>\n",
              "      <td>96424</td>\n",
              "      <td>0.0</td>\n",
              "      <td>NaN</td>\n",
              "      <td>NaN</td>\n",
              "      <td>NaN</td>\n",
              "      <td>NaN</td>\n",
              "      <td>NaN</td>\n",
              "      <td>NaN</td>\n",
              "      <td>1948.0</td>\n",
              "      <td>1</td>\n",
              "      <td>NaN</td>\n",
              "      <td>571346.0</td>\n",
              "      <td>1156834.0</td>\n",
              "      <td>2015</td>\n",
              "      <td>585488.0</td>\n",
              "      <td>14557.57</td>\n",
              "      <td>NaN</td>\n",
              "      <td>NaN</td>\n",
              "      <td>NaN</td>\n",
              "    </tr>\n",
              "    <tr>\n",
              "      <th>4</th>\n",
              "      <td>10879947</td>\n",
              "      <td>NaN</td>\n",
              "      <td>NaN</td>\n",
              "      <td>NaN</td>\n",
              "      <td>0.0</td>\n",
              "      <td>0.0</td>\n",
              "      <td>4</td>\n",
              "      <td>NaN</td>\n",
              "      <td>NaN</td>\n",
              "      <td>NaN</td>\n",
              "      <td>NaN</td>\n",
              "      <td>1776.0</td>\n",
              "      <td>NaN</td>\n",
              "      <td>NaN</td>\n",
              "      <td>1776</td>\n",
              "      <td>NaN</td>\n",
              "      <td>NaN</td>\n",
              "      <td>06037</td>\n",
              "      <td>NaN</td>\n",
              "      <td>NaN</td>\n",
              "      <td>NaN</td>\n",
              "      <td>NaN</td>\n",
              "      <td>NaN</td>\n",
              "      <td>NaN</td>\n",
              "      <td>34194168</td>\n",
              "      <td>-118385816</td>\n",
              "      <td>8512.0</td>\n",
              "      <td>NaN</td>\n",
              "      <td>NaN</td>\n",
              "      <td>NaN</td>\n",
              "      <td>NaN</td>\n",
              "      <td>NaN</td>\n",
              "      <td>1210</td>\n",
              "      <td>31</td>\n",
              "      <td>LAM1</td>\n",
              "      <td>060371232.052003</td>\n",
              "      <td>12447</td>\n",
              "      <td>3101</td>\n",
              "      <td>46795</td>\n",
              "      <td>96450</td>\n",
              "      <td>0.0</td>\n",
              "      <td>NaN</td>\n",
              "      <td>NaN</td>\n",
              "      <td>NaN</td>\n",
              "      <td>1</td>\n",
              "      <td>NaN</td>\n",
              "      <td>NaN</td>\n",
              "      <td>1947.0</td>\n",
              "      <td>NaN</td>\n",
              "      <td>NaN</td>\n",
              "      <td>193796.0</td>\n",
              "      <td>433491.0</td>\n",
              "      <td>2015</td>\n",
              "      <td>239695.0</td>\n",
              "      <td>5725.17</td>\n",
              "      <td>NaN</td>\n",
              "      <td>NaN</td>\n",
              "      <td>NaN</td>\n",
              "    </tr>\n",
              "  </tbody>\n",
              "</table>\n",
              "</div>"
            ],
            "text/plain": [
              "   parcelid airconditioningtypeid  ... taxdelinquencyyear censustractandblock\n",
              "0  10754147                   NaN  ...                NaN                 NaN\n",
              "1  10759547                   NaN  ...                NaN                 NaN\n",
              "2  10843547                   NaN  ...                NaN                 NaN\n",
              "3  10859147                   NaN  ...                NaN                 NaN\n",
              "4  10879947                   NaN  ...                NaN                 NaN\n",
              "\n",
              "[5 rows x 58 columns]"
            ]
          },
          "metadata": {
            "tags": []
          },
          "execution_count": 8
        }
      ]
    },
    {
      "cell_type": "code",
      "metadata": {
        "colab": {
          "base_uri": "https://localhost:8080/",
          "height": 204
        },
        "id": "0Q3jUIhfGmgK",
        "outputId": "d4de7842-634b-4a9b-dcba-696840bea0b6"
      },
      "source": [
        "train.head()"
      ],
      "execution_count": 9,
      "outputs": [
        {
          "output_type": "execute_result",
          "data": {
            "text/html": [
              "<div>\n",
              "<style scoped>\n",
              "    .dataframe tbody tr th:only-of-type {\n",
              "        vertical-align: middle;\n",
              "    }\n",
              "\n",
              "    .dataframe tbody tr th {\n",
              "        vertical-align: top;\n",
              "    }\n",
              "\n",
              "    .dataframe thead th {\n",
              "        text-align: right;\n",
              "    }\n",
              "</style>\n",
              "<table border=\"1\" class=\"dataframe\">\n",
              "  <thead>\n",
              "    <tr style=\"text-align: right;\">\n",
              "      <th></th>\n",
              "      <th>parcelid</th>\n",
              "      <th>logerror</th>\n",
              "      <th>transactiondate</th>\n",
              "    </tr>\n",
              "  </thead>\n",
              "  <tbody>\n",
              "    <tr>\n",
              "      <th>0</th>\n",
              "      <td>11016594</td>\n",
              "      <td>0.0276</td>\n",
              "      <td>2016-01-01</td>\n",
              "    </tr>\n",
              "    <tr>\n",
              "      <th>1</th>\n",
              "      <td>14366692</td>\n",
              "      <td>-0.1684</td>\n",
              "      <td>2016-01-01</td>\n",
              "    </tr>\n",
              "    <tr>\n",
              "      <th>2</th>\n",
              "      <td>12098116</td>\n",
              "      <td>-0.004</td>\n",
              "      <td>2016-01-01</td>\n",
              "    </tr>\n",
              "    <tr>\n",
              "      <th>3</th>\n",
              "      <td>12643413</td>\n",
              "      <td>0.0218</td>\n",
              "      <td>2016-01-02</td>\n",
              "    </tr>\n",
              "    <tr>\n",
              "      <th>4</th>\n",
              "      <td>14432541</td>\n",
              "      <td>-0.005</td>\n",
              "      <td>2016-01-02</td>\n",
              "    </tr>\n",
              "  </tbody>\n",
              "</table>\n",
              "</div>"
            ],
            "text/plain": [
              "   parcelid logerror transactiondate\n",
              "0  11016594   0.0276      2016-01-01\n",
              "1  14366692  -0.1684      2016-01-01\n",
              "2  12098116   -0.004      2016-01-01\n",
              "3  12643413   0.0218      2016-01-02\n",
              "4  14432541   -0.005      2016-01-02"
            ]
          },
          "metadata": {
            "tags": []
          },
          "execution_count": 9
        }
      ]
    },
    {
      "cell_type": "markdown",
      "metadata": {
        "id": "_a8wYlD2H3R_"
      },
      "source": [
        "**Percentage of Missing Values**"
      ]
    },
    {
      "cell_type": "code",
      "metadata": {
        "colab": {
          "base_uri": "https://localhost:8080/"
        },
        "id": "EdPy-3i5mnqp",
        "outputId": "05a01d53-a73c-4c8a-8ac9-7bc47fd3fda3"
      },
      "source": [
        "properties.isna().sum()"
      ],
      "execution_count": 10,
      "outputs": [
        {
          "output_type": "execute_result",
          "data": {
            "text/plain": [
              "parcelid                              0\n",
              "airconditioningtypeid           4343553\n",
              "architecturalstyletypeid        5958312\n",
              "basementsqft                    5967179\n",
              "bathroomcnt                       14419\n",
              "bedroomcnt                        14395\n",
              "buildingclasstypeid             5945074\n",
              "buildingqualitytypeid           2090551\n",
              "calculatedbathnbr                246068\n",
              "decktypeid                      5935959\n",
              "finishedfloor1squarefeet        5563959\n",
              "calculatedfinishedsquarefeet     100662\n",
              "finishedsquarefeet12             540464\n",
              "finishedsquarefeet13            5955091\n",
              "finishedsquarefeet15            5589451\n",
              "finishedsquarefeet50            5563959\n",
              "finishedsquarefeet6             5926951\n",
              "fips                              14369\n",
              "fireplacecnt                    5344673\n",
              "fullbathcnt                      246068\n",
              "garagecarcnt                    4196159\n",
              "garagetotalsqft                 4196159\n",
              "hashottuborspa                  5851358\n",
              "heatingorsystemtypeid           2294869\n",
              "latitude                          14369\n",
              "longitude                         14369\n",
              "lotsizesquarefeet                548805\n",
              "poolcnt                         4913268\n",
              "poolsizesum                     5914516\n",
              "pooltypeid10                    5916489\n",
              "pooltypeid2                     5905303\n",
              "pooltypeid7                     4979080\n",
              "propertycountylandusecode         15276\n",
              "propertylandusetypeid             14369\n",
              "propertyzoningdesc              2009334\n",
              "rawcensustractandblock            14369\n",
              "regionidcity                     124973\n",
              "regionidcounty                    14369\n",
              "regionidneighborhood            3657291\n",
              "regionidzip                       26694\n",
              "roomcnt                           14444\n",
              "storytypeid                     5967187\n",
              "threequarterbathnbr             5342446\n",
              "typeconstructiontypeid          5956941\n",
              "unitcnt                         2011902\n",
              "yardbuildingsqft17              5808491\n",
              "yardbuildingsqft26              5965141\n",
              "yearbuilt                        107761\n",
              "numberofstories                 4602689\n",
              "fireplaceflag                   5960108\n",
              "structuretaxvaluedollarcnt       101446\n",
              "taxvaluedollarcnt                 76816\n",
              "assessmentyear                    14372\n",
              "landtaxvaluedollarcnt            127659\n",
              "taxamount                         54002\n",
              "taxdelinquencyflag              5857457\n",
              "taxdelinquencyyear              5857453\n",
              "censustractandblock              150111\n",
              "dtype: int64"
            ]
          },
          "metadata": {
            "tags": []
          },
          "execution_count": 10
        }
      ]
    },
    {
      "cell_type": "code",
      "metadata": {
        "colab": {
          "base_uri": "https://localhost:8080/"
        },
        "id": "Vjs1fds9FzHg",
        "outputId": "bf8687f2-7d71-4cd4-f459-f3f7ae17062a"
      },
      "source": [
        "train.isna().sum()"
      ],
      "execution_count": 11,
      "outputs": [
        {
          "output_type": "execute_result",
          "data": {
            "text/plain": [
              "parcelid           0\n",
              "logerror           0\n",
              "transactiondate    0\n",
              "dtype: int64"
            ]
          },
          "metadata": {
            "tags": []
          },
          "execution_count": 11
        }
      ]
    },
    {
      "cell_type": "code",
      "metadata": {
        "colab": {
          "base_uri": "https://localhost:8080/"
        },
        "id": "uuWP_g8kH8f6",
        "outputId": "deacd406-d157-4ca7-cbb9-607cd983b05f"
      },
      "source": [
        "#Total missing percentage\n",
        "total = np.product(properties.shape)\n",
        "total_missing = properties.isna().sum().sum()\n",
        "\n",
        "percent_missing = (total_missing/total) * 100\n",
        "print(percent_missing)"
      ],
      "execution_count": 12,
      "outputs": [
        {
          "output_type": "stream",
          "text": [
            "49.08064674510521\n"
          ],
          "name": "stdout"
        }
      ]
    },
    {
      "cell_type": "code",
      "metadata": {
        "id": "ALWD-9_cI4_H"
      },
      "source": [
        "properties_missing_percentage= properties.isna().sum()/np.shape(properties)[0]*100"
      ],
      "execution_count": 13,
      "outputs": []
    },
    {
      "cell_type": "code",
      "metadata": {
        "id": "8IRjy7VUKRH2",
        "outputId": "fc73519b-d04d-4664-f3a9-d36bc1e429ae",
        "colab": {
          "base_uri": "https://localhost:8080/"
        }
      },
      "source": [
        "cols_highna=properties_missing_percentage[properties_missing_percentage>90]\n",
        "print(cols_highna)\n",
        "len(cols_highna)"
      ],
      "execution_count": 14,
      "outputs": [
        {
          "output_type": "stream",
          "text": [
            "architecturalstyletypeid    99.796966\n",
            "basementsqft                99.945481\n",
            "buildingclasstypeid         99.575240\n",
            "decktypeid                  99.422571\n",
            "finishedfloor1squarefeet    93.191868\n",
            "finishedsquarefeet13        99.743017\n",
            "finishedsquarefeet15        93.618839\n",
            "finishedsquarefeet50        93.191868\n",
            "finishedsquarefeet6         99.271694\n",
            "hashottuborspa              98.005572\n",
            "poolsizesum                 99.063418\n",
            "pooltypeid10                99.096464\n",
            "pooltypeid2                 98.909108\n",
            "storytypeid                 99.945615\n",
            "typeconstructiontypeid      99.774003\n",
            "yardbuildingsqft17          97.287584\n",
            "yardbuildingsqft26          99.911346\n",
            "fireplaceflag               99.827048\n",
            "taxdelinquencyflag          98.107726\n",
            "taxdelinquencyyear          98.107659\n",
            "dtype: float64\n"
          ],
          "name": "stdout"
        },
        {
          "output_type": "execute_result",
          "data": {
            "text/plain": [
              "20"
            ]
          },
          "metadata": {
            "tags": []
          },
          "execution_count": 14
        }
      ]
    },
    {
      "cell_type": "code",
      "metadata": {
        "id": "g5HM8q5xIx_F"
      },
      "source": [
        "cols_to_drop=cols_highna.index.tolist()\n",
        "\n",
        "properties.drop(cols_to_drop, axis = 1, inplace = True)"
      ],
      "execution_count": 15,
      "outputs": []
    },
    {
      "cell_type": "code",
      "metadata": {
        "id": "7i0wWYmdN35B",
        "outputId": "30e7e4d8-8a37-40d6-a7e5-f6240f6a24e0",
        "colab": {
          "base_uri": "https://localhost:8080/"
        }
      },
      "source": [
        "cols_highna=properties_missing_percentage[properties_missing_percentage>10]\n",
        "print(cols_highna)\n",
        "len(cols_highna)"
      ],
      "execution_count": 19,
      "outputs": [
        {
          "output_type": "stream",
          "text": [
            "airconditioningtypeid    72.751043\n",
            "buildingqualitytypeid    35.015059\n",
            "fireplacecnt             89.519003\n",
            "garagecarcnt             70.282311\n",
            "garagetotalsqft          70.282311\n",
            "heatingorsystemtypeid    38.437222\n",
            "poolcnt                  82.293314\n",
            "pooltypeid7              83.395612\n",
            "propertyzoningdesc       33.654739\n",
            "regionidneighborhood     61.256703\n",
            "threequarterbathnbr      89.481703\n",
            "unitcnt                  33.697751\n",
            "numberofstories          77.091364\n",
            "dtype: float64\n"
          ],
          "name": "stdout"
        },
        {
          "output_type": "execute_result",
          "data": {
            "text/plain": [
              "13"
            ]
          },
          "metadata": {
            "tags": []
          },
          "execution_count": 19
        }
      ]
    },
    {
      "cell_type": "code",
      "metadata": {
        "id": "ZLl2opJtOLQS"
      },
      "source": [
        "properties_missing_percentage= properties.isna().sum()/np.shape(properties)[0]*100"
      ],
      "execution_count": 17,
      "outputs": []
    },
    {
      "cell_type": "code",
      "metadata": {
        "id": "FIjSkPr7Spr8"
      },
      "source": [
        ""
      ],
      "execution_count": null,
      "outputs": []
    },
    {
      "cell_type": "code",
      "metadata": {
        "colab": {
          "base_uri": "https://localhost:8080/"
        },
        "id": "OmfXNDc-yhjO",
        "outputId": "93778c63-b5d9-4c39-db5d-e16b6188977c"
      },
      "source": [
        "print(train_2016)\n",
        "print(properties_2016.columns)"
      ],
      "execution_count": null,
      "outputs": [
        {
          "output_type": "stream",
          "text": [
            "       parcelid logerror transactiondate\n",
            "0      11016594   0.0276      2016-01-01\n",
            "1      14366692  -0.1684      2016-01-01\n",
            "2      12098116   -0.004      2016-01-01\n",
            "3      12643413   0.0218      2016-01-02\n",
            "4      14432541   -0.005      2016-01-02\n",
            "...         ...      ...             ...\n",
            "90270  10774160  -0.0356      2016-12-30\n",
            "90271  12046695    0.007      2016-12-30\n",
            "90272  12995401  -0.2679      2016-12-30\n",
            "90273  11402105   0.0602      2016-12-30\n",
            "90274  12566293   0.4207      2016-12-30\n",
            "\n",
            "[90275 rows x 3 columns]\n",
            "Index(['parcelid', 'airconditioningtypeid', 'architecturalstyletypeid',\n",
            "       'basementsqft', 'bathroomcnt', 'bedroomcnt', 'buildingclasstypeid',\n",
            "       'buildingqualitytypeid', 'calculatedbathnbr', 'decktypeid',\n",
            "       'finishedfloor1squarefeet', 'calculatedfinishedsquarefeet',\n",
            "       'finishedsquarefeet12', 'finishedsquarefeet13', 'finishedsquarefeet15',\n",
            "       'finishedsquarefeet50', 'finishedsquarefeet6', 'fips', 'fireplacecnt',\n",
            "       'fullbathcnt', 'garagecarcnt', 'garagetotalsqft', 'hashottuborspa',\n",
            "       'heatingorsystemtypeid', 'latitude', 'longitude', 'lotsizesquarefeet',\n",
            "       'poolcnt', 'poolsizesum', 'pooltypeid10', 'pooltypeid2', 'pooltypeid7',\n",
            "       'propertycountylandusecode', 'propertylandusetypeid',\n",
            "       'propertyzoningdesc', 'rawcensustractandblock', 'regionidcity',\n",
            "       'regionidcounty', 'regionidneighborhood', 'regionidzip', 'roomcnt',\n",
            "       'storytypeid', 'threequarterbathnbr', 'typeconstructiontypeid',\n",
            "       'unitcnt', 'yardbuildingsqft17', 'yardbuildingsqft26', 'yearbuilt',\n",
            "       'numberofstories', 'fireplaceflag', 'structuretaxvaluedollarcnt',\n",
            "       'taxvaluedollarcnt', 'assessmentyear', 'landtaxvaluedollarcnt',\n",
            "       'taxamount', 'taxdelinquencyflag', 'taxdelinquencyyear',\n",
            "       'censustractandblock'],\n",
            "      dtype='object')\n"
          ],
          "name": "stdout"
        }
      ]
    },
    {
      "cell_type": "code",
      "metadata": {
        "colab": {
          "base_uri": "https://localhost:8080/"
        },
        "id": "A2hHoZcA0_mY",
        "outputId": "949d00f3-2431-47a6-c742-928a7da126f6"
      },
      "source": [
        "pd.set_option('display.max_rows', 500)\n",
        "pd.set_option('display.max_columns', 500)\n",
        "pd.set_option('display.width', 150)\n",
        "\n",
        "print(properties_2016.describe())"
      ],
      "execution_count": null,
      "outputs": [
        {
          "output_type": "stream",
          "text": [
            "        parcelid airconditioningtypeid architecturalstyletypeid basementsqft bathroomcnt bedroomcnt buildingclasstypeid buildingqualitytypeid  \\\n",
            "count    2985217                811519                     6061         1628     2973755    2973767               12629               1938488   \n",
            "unique   2985217                     7                        8          751          37         21                   5                    12   \n",
            "top     11058059                     1                        7         1528         2.0        3.0                   4                     7   \n",
            "freq           1                742364                     5251           25     1218664    1169462                9265               1133238   \n",
            "\n",
            "       calculatedbathnbr decktypeid finishedfloor1squarefeet calculatedfinishedsquarefeet finishedsquarefeet12 finishedsquarefeet13  \\\n",
            "count            2856305      17096                   202717                      2929652              2709184                 7672   \n",
            "unique                34          1                     4604                        12587                10670                  250   \n",
            "top                  2.0         66                     1252                       1440.0                 1440                 1440   \n",
            "freq             1218652      17096                      923                         8946                 6941                 1571   \n",
            "\n",
            "       finishedsquarefeet15 finishedsquarefeet50 finishedsquarefeet6     fips fireplacecnt fullbathcnt garagecarcnt garagetotalsqft hashottuborspa  \\\n",
            "count                190798               202717               22001  2973780       312637     2856305       883267          883267          69014   \n",
            "unique                 8816                 4802                4251        3            9          20           24            2240              1   \n",
            "top                    1536                 1252                 952    06037            1           2            2               0           true   \n",
            "freq                    647                  923                 101  2009362       269643     1425661       660462          196752          69014   \n",
            "\n",
            "       heatingorsystemtypeid  latitude   longitude lotsizesquarefeet poolcnt poolsizesum pooltypeid10 pooltypeid2 pooltypeid7  \\\n",
            "count                1806401   2973780     2973780           2709118  517534       27960        36939       32075      485459   \n",
            "unique                    14    852325     1042550             69953       1         907            1           1           1   \n",
            "top                        2  33984600  -118390000            6000.0       1         450            1           1           1   \n",
            "freq                 1156830       862        1718             44730  517534        3179        36939       32075      485459   \n",
            "\n",
            "       propertycountylandusecode propertylandusetypeid propertyzoningdesc rawcensustractandblock regionidcity regionidcounty regionidneighborhood  \\\n",
            "count                    2972940               2973780            1978629                2973780      2922372        2973780              1156402   \n",
            "unique                       240                    15               5638                 100300          186              3                  528   \n",
            "top                         0100                   261               LAR1       060590524.262052        12447           3101               118208   \n",
            "freq                     1153896               2148362             275029                   1518       670925        2009362                32267   \n",
            "\n",
            "       regionidzip  roomcnt storytypeid threequarterbathnbr typeconstructiontypeid  unitcnt yardbuildingsqft17 yardbuildingsqft26 yearbuilt  \\\n",
            "count      2971237  2973742        1624              311631                   6747  1977490              80355               2647   2925289   \n",
            "unique         405       36           1                   7                      5      146               1636                594       168   \n",
            "top          96987      0.0           7                   1                      6        1                240                120    1955.0   \n",
            "freq         22021  2308879        1624              308959                   6670  1780051               3190                 91     88586   \n",
            "\n",
            "       numberofstories fireplaceflag structuretaxvaluedollarcnt taxvaluedollarcnt assessmentyear landtaxvaluedollarcnt taxamount taxdelinquencyflag  \\\n",
            "count           682069          5163                    2930235           2942667        2973778               2917484   2953967              56462   \n",
            "unique              12             1                     426150            638920             14                531408   1045757                  1   \n",
            "top                  1          true                   100000.0               9.0           2015               20980.0    345.72                  Y   \n",
            "freq            424186          5163                       1880              1889        2972420                  3804       171              56462   \n",
            "\n",
            "       taxdelinquencyyear censustractandblock  \n",
            "count               56464             2910091  \n",
            "unique                 32               96771  \n",
            "top                    15      60379203391054  \n",
            "freq                26068                1171  \n"
          ],
          "name": "stdout"
        }
      ]
    },
    {
      "cell_type": "code",
      "metadata": {
        "colab": {
          "base_uri": "https://localhost:8080/"
        },
        "id": "bbOPskaS7Hmr",
        "outputId": "3f4d457f-b15d-4992-f2f3-8f2cf26c0a72"
      },
      "source": [
        "from sklearn.metrics.pairwise import cosine_similarity\n",
        "\n",
        "print(properties.dtypes)\n",
        "\n",
        "# numerics = ['int16', 'int32', 'int64', 'float16', 'float32', 'float64']\n",
        "# numeric_columns = properties.select_dtypes(['number'])\n",
        "\n",
        "# cosine_similarity(numeric_columns)"
      ],
      "execution_count": null,
      "outputs": [
        {
          "output_type": "stream",
          "text": [
            "parcelid                        object\n",
            "airconditioningtypeid           object\n",
            "architecturalstyletypeid        object\n",
            "basementsqft                    object\n",
            "bathroomcnt                     object\n",
            "bedroomcnt                      object\n",
            "buildingclasstypeid             object\n",
            "buildingqualitytypeid           object\n",
            "calculatedbathnbr               object\n",
            "decktypeid                      object\n",
            "finishedfloor1squarefeet        object\n",
            "calculatedfinishedsquarefeet    object\n",
            "finishedsquarefeet12            object\n",
            "finishedsquarefeet13            object\n",
            "finishedsquarefeet15            object\n",
            "finishedsquarefeet50            object\n",
            "finishedsquarefeet6             object\n",
            "fips                            object\n",
            "fireplacecnt                    object\n",
            "fullbathcnt                     object\n",
            "garagecarcnt                    object\n",
            "garagetotalsqft                 object\n",
            "hashottuborspa                  object\n",
            "heatingorsystemtypeid           object\n",
            "latitude                        object\n",
            "longitude                       object\n",
            "lotsizesquarefeet               object\n",
            "poolcnt                         object\n",
            "poolsizesum                     object\n",
            "pooltypeid10                    object\n",
            "pooltypeid2                     object\n",
            "pooltypeid7                     object\n",
            "propertycountylandusecode       object\n",
            "propertylandusetypeid           object\n",
            "propertyzoningdesc              object\n",
            "rawcensustractandblock          object\n",
            "regionidcity                    object\n",
            "regionidcounty                  object\n",
            "regionidneighborhood            object\n",
            "regionidzip                     object\n",
            "roomcnt                         object\n",
            "storytypeid                     object\n",
            "threequarterbathnbr             object\n",
            "typeconstructiontypeid          object\n",
            "unitcnt                         object\n",
            "yardbuildingsqft17              object\n",
            "yardbuildingsqft26              object\n",
            "yearbuilt                       object\n",
            "numberofstories                 object\n",
            "fireplaceflag                   object\n",
            "structuretaxvaluedollarcnt      object\n",
            "taxvaluedollarcnt               object\n",
            "assessmentyear                  object\n",
            "landtaxvaluedollarcnt           object\n",
            "taxamount                       object\n",
            "taxdelinquencyflag              object\n",
            "taxdelinquencyyear              object\n",
            "censustractandblock             object\n",
            "dtype: object\n"
          ],
          "name": "stdout"
        }
      ]
    },
    {
      "cell_type": "code",
      "metadata": {
        "colab": {
          "base_uri": "https://localhost:8080/"
        },
        "id": "ynI__dKu8gTJ",
        "outputId": "186c02a4-72c2-450e-fb31-e55a3104094e"
      },
      "source": [
        "cols = [\n",
        "'parcelid',\n",
        "'airconditioningtypeid',\n",
        "    'architecturalstyletypeid',\n",
        "    'basementsqft',\n",
        "    'bathroomcnt',\n",
        "    'bedroomcnt',\n",
        "    'buildingclasstypeid',\n",
        "    'buildingqualitytypeid',\n",
        "    'calculatedbathnbr',\n",
        "    'decktypeid',\n",
        "    'finishedfloor1squarefeet',\n",
        "    'calculatedfinishedsquarefeet',\n",
        "    'finishedsquarefeet12',\n",
        "    'finishedsquarefeet13',\n",
        "    'finishedsquarefeet15',\n",
        "    'finishedsquarefeet50',\n",
        "    'finishedsquarefeet6',\n",
        "    'fips',\n",
        "\n",
        "'fireplacecnt'                    ,\n",
        "'fullbathcnt'                     ,\n",
        "'garagecarcnt'                    ,\n",
        "'garagetotalsqft'                 ,\n",
        "'hashottuborspa'                  ,\n",
        "'heatingorsystemtypeid'           ,\n",
        "'latitude'                        ,\n",
        "'longitude'                       ,\n",
        "'lotsizesquarefeet'               ,\n",
        "'poolcnt'                         ,\n",
        "'poolsizesum'                     ,\n",
        "'pooltypeid10'                    ,\n",
        "'pooltypeid2'                     ,\n",
        "'pooltypeid7'                     ,\n",
        "'propertycountylandusecode'       ,\n",
        "'propertylandusetypeid'           ,\n",
        "'propertyzoningdesc'              ,\n",
        "'rawcensustractandblock'          ,\n",
        "'regionidcity'                    ,\n",
        "'regionidcounty'                  ,\n",
        "'regionidneighborhood'            ,\n",
        "'regionidzip'                     ,\n",
        "'roomcnt'                         ,\n",
        "'storytypeid'                     ,\n",
        "'threequarterbathnbr'             ,\n",
        "'typeconstructiontypeid'          ,\n",
        "'unitcnt'                         ,\n",
        "'yardbuildingsqft17'              ,\n",
        "'yardbuildingsqft26'              ,\n",
        "'yearbuilt'                       ,\n",
        "'numberofstories'                 ,\n",
        "'fireplaceflag'                   ,\n",
        "'structuretaxvaluedollarcnt'      ,\n",
        "'taxvaluedollarcnt'               ,\n",
        "'assessmentyear'                  ,\n",
        "'landtaxvaluedollarcnt'           ,\n",
        "'taxamount'                       ,\n",
        "'taxdelinquencyflag'              ,\n",
        "'taxdelinquencyyear'              ,\n",
        "'censustractandblock'             ,\n",
        "]\n",
        "\n",
        "types = {}\n",
        "\n",
        "for col in cols:\n",
        "    try:\n",
        "        properties[col].astype('int')\n",
        "        types[col] = 'int'\n",
        "        continue\n",
        "    except:\n",
        "        pass\n",
        "\n",
        "    try:\n",
        "        properties[col].astype('float')\n",
        "        types[col] = 'float'\n",
        "        continue\n",
        "    except:\n",
        "        pass\n",
        "\n",
        "    types[col] = 'object'\n",
        "from pprint import pprint\n",
        "\n",
        "pprint(types) "
      ],
      "execution_count": null,
      "outputs": [
        {
          "output_type": "stream",
          "text": [
            "{'airconditioningtypeid': 'float',\n",
            " 'architecturalstyletypeid': 'float',\n",
            " 'assessmentyear': 'float',\n",
            " 'basementsqft': 'float',\n",
            " 'bathroomcnt': 'float',\n",
            " 'bedroomcnt': 'float',\n",
            " 'buildingclasstypeid': 'float',\n",
            " 'buildingqualitytypeid': 'float',\n",
            " 'calculatedbathnbr': 'float',\n",
            " 'calculatedfinishedsquarefeet': 'float',\n",
            " 'censustractandblock': 'float',\n",
            " 'decktypeid': 'float',\n",
            " 'finishedfloor1squarefeet': 'float',\n",
            " 'finishedsquarefeet12': 'float',\n",
            " 'finishedsquarefeet13': 'float',\n",
            " 'finishedsquarefeet15': 'float',\n",
            " 'finishedsquarefeet50': 'float',\n",
            " 'finishedsquarefeet6': 'float',\n",
            " 'fips': 'float',\n",
            " 'fireplacecnt': 'float',\n",
            " 'fireplaceflag': 'object',\n",
            " 'fullbathcnt': 'float',\n",
            " 'garagecarcnt': 'float',\n",
            " 'garagetotalsqft': 'float',\n",
            " 'hashottuborspa': 'object',\n",
            " 'heatingorsystemtypeid': 'float',\n",
            " 'landtaxvaluedollarcnt': 'float',\n",
            " 'latitude': 'float',\n",
            " 'longitude': 'float',\n",
            " 'lotsizesquarefeet': 'float',\n",
            " 'numberofstories': 'float',\n",
            " 'parcelid': 'int',\n",
            " 'poolcnt': 'float',\n",
            " 'poolsizesum': 'float',\n",
            " 'pooltypeid10': 'float',\n",
            " 'pooltypeid2': 'float',\n",
            " 'pooltypeid7': 'float',\n",
            " 'propertycountylandusecode': 'object',\n",
            " 'propertylandusetypeid': 'float',\n",
            " 'propertyzoningdesc': 'object',\n",
            " 'rawcensustractandblock': 'float',\n",
            " 'regionidcity': 'float',\n",
            " 'regionidcounty': 'float',\n",
            " 'regionidneighborhood': 'float',\n",
            " 'regionidzip': 'float',\n",
            " 'roomcnt': 'float',\n",
            " 'storytypeid': 'float',\n",
            " 'structuretaxvaluedollarcnt': 'float',\n",
            " 'taxamount': 'float',\n",
            " 'taxdelinquencyflag': 'object',\n",
            " 'taxdelinquencyyear': 'float',\n",
            " 'taxvaluedollarcnt': 'float',\n",
            " 'threequarterbathnbr': 'float',\n",
            " 'typeconstructiontypeid': 'float',\n",
            " 'unitcnt': 'float',\n",
            " 'yardbuildingsqft17': 'float',\n",
            " 'yardbuildingsqft26': 'float',\n",
            " 'yearbuilt': 'float'}\n"
          ],
          "name": "stdout"
        }
      ]
    },
    {
      "cell_type": "code",
      "metadata": {
        "id": "Xm66qj8i8aN2"
      },
      "source": [
        "for col in types:\n",
        "    properties[col] = properties[col].astype(types[col])\n",
        "\n",
        "\n",
        "\n"
      ],
      "execution_count": null,
      "outputs": []
    },
    {
      "cell_type": "code",
      "metadata": {
        "id": "DkEsRmDiB_GR"
      },
      "source": [
        ""
      ],
      "execution_count": null,
      "outputs": []
    }
  ]
}